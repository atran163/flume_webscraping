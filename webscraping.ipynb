{
  "nbformat": 4,
  "nbformat_minor": 0,
  "metadata": {
    "colab": {
      "name": "webscraping.ipynb",
      "provenance": [],
      "collapsed_sections": [],
      "authorship_tag": "ABX9TyM+ExH0TKRh2UxRdwRgjh8B",
      "include_colab_link": true
    },
    "kernelspec": {
      "name": "python3",
      "display_name": "Python 3"
    }
  },
  "cells": [
    {
      "cell_type": "markdown",
      "metadata": {
        "id": "view-in-github",
        "colab_type": "text"
      },
      "source": [
        "<a href=\"https://colab.research.google.com/github/atran163/flume_webscraping/blob/master/webscraping.ipynb\" target=\"_parent\"><img src=\"https://colab.research.google.com/assets/colab-badge.svg\" alt=\"Open In Colab\"/></a>"
      ]
    },
    {
      "cell_type": "code",
      "metadata": {
        "id": "PKb4aM-NgBi8",
        "colab_type": "code",
        "colab": {}
      },
      "source": [
        "import requests\n",
        "import time\n",
        "\n",
        "from bs4 import BeautifulSoup"
      ],
      "execution_count": 0,
      "outputs": []
    },
    {
      "cell_type": "code",
      "metadata": {
        "id": "TldxCMWzgZJc",
        "colab_type": "code",
        "colab": {}
      },
      "source": [
        "response = requests.get(\"https://www.metrolyrics.com/flume-lyrics.html\")\n",
        "soup = BeautifulSoup(response.content, \"html.parser\")"
      ],
      "execution_count": 0,
      "outputs": []
    },
    {
      "cell_type": "code",
      "metadata": {
        "id": "77Cug-oDgeex",
        "colab_type": "code",
        "colab": {}
      },
      "source": [
        "tables = soup.find_all(\"table\", class_ = \"songs-table compact\")\n",
        "song_list = tables[0].find_all(\"tr\")\n"
      ],
      "execution_count": 0,
      "outputs": []
    },
    {
      "cell_type": "code",
      "metadata": {
        "id": "Fujj3szEginy",
        "colab_type": "code",
        "colab": {
          "base_uri": "https://localhost:8080/",
          "height": 54
        },
        "outputId": "ba04c8ad-30f9-49e9-be66-dc717463b4af"
      },
      "source": [
        "song_lyrics = []\n",
        "for song in song_list[1:]:\n",
        "  song_lyrics.append(song.find(\"a\")[\"href\"])\n",
        "print(song_lyrics)"
      ],
      "execution_count": 4,
      "outputs": [
        {
          "output_type": "stream",
          "text": [
            "['https://www.metrolyrics.com/never-be-like-you-lyrics-flume.html', 'https://www.metrolyrics.com/hyperreal-lyrics-flume.html', 'https://www.metrolyrics.com/some-minds-lyrics-flume.html', 'https://www.metrolyrics.com/holdin-on-lyrics-flume.html', 'https://www.metrolyrics.com/drop-the-game-lyrics-flume.html', 'https://www.metrolyrics.com/say-it-lyrics-flume.html', 'https://www.metrolyrics.com/the-greatest-view-lyrics-flume.html', 'https://www.metrolyrics.com/more-than-you-thought-lyrics-flume.html', 'https://www.metrolyrics.com/insane-lyrics-flume.html', 'https://www.metrolyrics.com/stay-close-lyrics-flume.html', 'https://www.metrolyrics.com/say-it-illenium-remix-lyrics-flume.html', 'https://www.metrolyrics.com/wall-fuck-lyrics-flume.html', 'https://www.metrolyrics.com/change-lyrics-flume.html', 'https://www.metrolyrics.com/lose-it-lyrics-flume.html', 'https://www.metrolyrics.com/star-eyes-lyrics-flume.html', 'https://www.metrolyrics.com/helix-lyrics-flume.html', 'https://www.metrolyrics.com/tiny-cities-lyrics-flume.html', 'https://www.metrolyrics.com/left-alone-lyrics-flume.html', 'https://www.metrolyrics.com/warm-thoughts-lyrics-flume.html', 'https://www.metrolyrics.com/numb-getting-colder-lyrics-flume.html', 'https://www.metrolyrics.com/when-everything-was-new-lyrics-flume.html', 'https://www.metrolyrics.com/weekend-lyrics-flume.html', 'https://www.metrolyrics.com/holding-on-lyrics-flume.html', 'https://www.metrolyrics.com/intro-feat-stalley-lyrics-flume.html', 'https://www.metrolyrics.com/free-lyrics-flume.html', 'https://www.metrolyrics.com/test-recognise-remix-lyrics-flume.html', 'https://www.metrolyrics.com/bring-you-down-lyrics-flume.html', 'https://www.metrolyrics.com/quirk-lyrics-flume.html', 'https://www.metrolyrics.com/pika-lyrics-flume.html', 'https://www.metrolyrics.com/on-top-lyrics-flume.html', 'https://www.metrolyrics.com/smoke-retribution-lyrics-flume.html', 'https://www.metrolyrics.com/what-you-need-lyrics-flume.html', 'https://www.metrolyrics.com/depth-charge-lyrics-flume.html', 'https://www.metrolyrics.com/heater-lyrics-flume.html', 'https://www.metrolyrics.com/take-a-chance-lyrics-flume.html', 'https://www.metrolyrics.com/let-you-know-lyrics-flume.html', 'https://www.metrolyrics.com/the-difference-lyrics-flume.html', 'https://www.metrolyrics.com/lose-it-naderi-remix-lyrics-flume.html', 'https://www.metrolyrics.com/mud-lyrics-flume.html', 'https://www.metrolyrics.com/quits-lyrics-flume.html', 'https://www.metrolyrics.com/71m3-lyrics-flume.html', 'https://www.metrolyrics.com/like-water-lyrics-flume.html', 'https://www.metrolyrics.com/say-it-clean-bandit-remix-lyrics-flume.html', 'https://www.metrolyrics.com/sleepless-lyrics-flume.html', 'https://www.metrolyrics.com/v-lyrics-flume.html', 'https://www.metrolyrics.com/pdspdspdspdspdspdspdspdspdspdspdspdspdspdspdspdspdspd-lyrics-flume.html', 'https://www.metrolyrics.com/rushing-back-lyrics-flume.html', 'https://www.metrolyrics.com/voices-lyrics-flume.html', 'https://www.metrolyrics.com/bring-you-down-lodent-cover-lyrics-flume.html', 'https://www.metrolyrics.com/my-boo-lyrics-flume.html', 'https://www.metrolyrics.com/dreamtime-lyrics-flume.html', 'https://www.metrolyrics.com/innocence-lyrics-flume.html', 'https://www.metrolyrics.com/sintra-lyrics-flume.html', 'https://www.metrolyrics.com/pdspdspdspdspdspdspdspdspdspdspdspdspd-lyrics-flume.html', 'https://www.metrolyrics.com/daze-2200-lyrics-flume.html', 'https://www.metrolyrics.com/friends-lyrics-flume.html', 'https://www.metrolyrics.com/ecdysis-lyrics-flume.html', 'https://www.metrolyrics.com/3-lyrics-flume.html', 'https://www.metrolyrics.com/ezra-lyrics-flume.html', 'https://www.metrolyrics.com/my-boo-triple-j-like-a-version-lyrics-flume.html', 'https://www.metrolyrics.com/is-it-cold-in-the-water-flume-eprom-remix-lyrics-flume.html', 'https://www.metrolyrics.com/never-be-like-you-disclosure-remix-lyrics-flume.html', 'https://www.metrolyrics.com/levitate-lyrics-flume.html', 'https://www.metrolyrics.com/you-know-lyrics-flume.html', 'https://www.metrolyrics.com/say-it-stwo-remix-lyrics-flume.html', 'https://www.metrolyrics.com/jewel-lyrics-flume.html', 'https://www.metrolyrics.com/amber-lyrics-flume.html', 'https://www.metrolyrics.com/trust-lyrics-flume.html', 'https://www.metrolyrics.com/enough-lyrics-flume.html', 'https://www.metrolyrics.com/high-beams-lyrics-flume.html', 'https://www.metrolyrics.com/space-cadet-lyrics-flume.html', 'https://www.metrolyrics.com/how-to-build-a-relationship-lyrics-flume.html', 'https://www.metrolyrics.com/upgrade-lyrics-flume.html', 'https://www.metrolyrics.com/fantastic-lyrics-flume.html', 'https://www.metrolyrics.com/spring-lyrics-flume.html']\n"
          ],
          "name": "stdout"
        }
      ]
    },
    {
      "cell_type": "code",
      "metadata": {
        "id": "PdtejwBHgn26",
        "colab_type": "code",
        "colab": {
          "base_uri": "https://localhost:8080/",
          "height": 238
        },
        "outputId": "83dc75e2-346f-490d-9655-92a2d515a4b3"
      },
      "source": [
        "links = []\n",
        "for i in range(1,40,3):\n",
        "  links.append(song_list[i].find(\"a\")[\"href\"])\n",
        "\n",
        "links"
      ],
      "execution_count": 5,
      "outputs": [
        {
          "output_type": "execute_result",
          "data": {
            "text/plain": [
              "['https://www.metrolyrics.com/never-be-like-you-lyrics-flume.html',\n",
              " 'https://www.metrolyrics.com/holdin-on-lyrics-flume.html',\n",
              " 'https://www.metrolyrics.com/the-greatest-view-lyrics-flume.html',\n",
              " 'https://www.metrolyrics.com/stay-close-lyrics-flume.html',\n",
              " 'https://www.metrolyrics.com/change-lyrics-flume.html',\n",
              " 'https://www.metrolyrics.com/helix-lyrics-flume.html',\n",
              " 'https://www.metrolyrics.com/warm-thoughts-lyrics-flume.html',\n",
              " 'https://www.metrolyrics.com/weekend-lyrics-flume.html',\n",
              " 'https://www.metrolyrics.com/free-lyrics-flume.html',\n",
              " 'https://www.metrolyrics.com/quirk-lyrics-flume.html',\n",
              " 'https://www.metrolyrics.com/smoke-retribution-lyrics-flume.html',\n",
              " 'https://www.metrolyrics.com/heater-lyrics-flume.html',\n",
              " 'https://www.metrolyrics.com/the-difference-lyrics-flume.html']"
            ]
          },
          "metadata": {
            "tags": []
          },
          "execution_count": 5
        }
      ]
    },
    {
      "cell_type": "code",
      "metadata": {
        "id": "N9um8hYOgrTi",
        "colab_type": "code",
        "colab": {}
      },
      "source": [
        "def get_lyrics(song_links):\n",
        "  time.sleep(0.5)\n",
        "  lyrics = []\n",
        "  for link in song_links:\n",
        "    resp1 = requests.get(link)\n",
        "    soup2 = BeautifulSoup(resp1.content, \"html.parser\")\n",
        "    verses_rough = soup2.find_all(\"p\", class_ = \"verse\")\n",
        "    lyric = \"\"\n",
        "    for verse in verses_rough:\n",
        "      lyric += verse.get_text(separator=\" \")\n",
        "    lyrics.append(lyric)\n",
        "  return lyrics\n"
      ],
      "execution_count": 0,
      "outputs": []
    },
    {
      "cell_type": "code",
      "metadata": {
        "id": "dKneCkCcgw6H",
        "colab_type": "code",
        "colab": {
          "base_uri": "https://localhost:8080/",
          "height": 918
        },
        "outputId": "af633feb-c355-4910-e888-2e5e42ad1ea5"
      },
      "source": [
        "# Print out the lyrics to the first song.\n",
        "lyrics_list = get_lyrics(links)\n",
        "print(lyrics_list[0])"
      ],
      "execution_count": 7,
      "outputs": [
        {
          "output_type": "stream",
          "text": [
            "What I would do to take away this fear of being loved Allegiance to the pain \n",
            "Now I'm fucked up and I'm missing ya \n",
            "Never be like you \n",
            "I would give anything to change this fickle-minded heart \n",
            "That loves fake shiny things \n",
            "Now I'm fucked up and I'm missing ya \n",
            "He'll never be like youI'm only human can't you see \n",
            "I made, I made a mistake \n",
            "Please just look me in my face \n",
            "Tell me everything's okay \n",
            "Cause I got it \n",
            "He'll never be like youI'm only human can't you see \n",
            "I made, I made a mistake \n",
            "Please just look me in my face \n",
            "Tell me everything's okay \n",
            "Cause I got it \n",
            "He'll never be like youHow do I make you wanna stay? \n",
            "Hate sleeping on my own, missing the way you taste \n",
            "Now I'm fucked up and I'm missing ya \n",
            "He'll never be like you \n",
            "Stop looking at me with those eyes \n",
            "Like I could disappear and you wouldn't care why \n",
            "Now I'm fucked up and I'm missing ya \n",
            "He'll never be like youI'm only human can't you see \n",
            "I made, I made a mistake \n",
            "Please just look me in my face \n",
            "Tell me everything's okay \n",
            "Cause I got it \n",
            "He'll never be like youI'm only human can't you see \n",
            "I made, I made a mistake \n",
            "Please just look me in my face \n",
            "Tell me everything's okay \n",
            "Cause I got it \n",
            "He'll never be like youI'm falling on my knees \n",
            "Forgive me, I'm a fucking fool \n",
            "I'm begging, darling, please \n",
            "Absolve me of my sins, won't you?I'm falling on my knees \n",
            "Forgive me, I'm a fucking fool \n",
            "I'm begging, darling, please \n",
            "Absolve me of my sins, won't you?I'm only human can't you see \n",
            "I made, I made a mistake \n",
            "Please just look me in my face \n",
            "Tell me everything's okay \n",
            "Cause I got it \n",
            "He'll never be like youI'm only human can't you see \n",
            "I made, I made a mistake \n",
            "Please just look me in my face \n",
            "Tell me everything's okay \n",
            "Cause I got it \n",
            "He'll never be like youBaby, baby please believe me \n",
            "C'mon take it easy \n",
            "Please don't ever leave me \n",
            "He'll never be like you\n"
          ],
          "name": "stdout"
        }
      ]
    },
    {
      "cell_type": "code",
      "metadata": {
        "id": "pmQhi7o5g13l",
        "colab_type": "code",
        "colab": {}
      },
      "source": [
        "import pickle\n",
        "pickle.dump(lyrics_list, open(\"lyrics.pkl\", \"wb\"))"
      ],
      "execution_count": 0,
      "outputs": []
    },
    {
      "cell_type": "code",
      "metadata": {
        "id": "7OnBZcXsg4Ia",
        "colab_type": "code",
        "colab": {}
      },
      "source": [
        "def train_markov_chain(lyrics):\n",
        "    \"\"\"\n",
        "    Args:\n",
        "      - lyrics: a list of strings, where each string represents\n",
        "                the lyrics of one song by an artist.\n",
        "    \n",
        "    Returns:\n",
        "      A dict that maps a single word (\"unigram\") to a list of\n",
        "      words that follow that word, representing the Markov\n",
        "      chain trained on the lyrics.\n",
        "    \"\"\"\n",
        "    chain = {\"<START>\": []}\n",
        "    for lyric in lyrics:\n",
        "       
        "        words = (\n",
        "          lyric.lower().replace(\",\", \"\").replace('\\n\\n', ' <N> ').\\\n",
        "          replace('\\n', ' <N> ').split())\n",
        "        words.insert(0, '<START>')\n",
        "        words.append('<END>')\n",
        "        for i in range(len(words)-1):\n",
        "          word = words[i]\n",
        "          next_word = words[i+1]\n",
        "          if word not in chain:\n",
        "            chain[word] = [next_word]\n",
        "          else:\n",
        "            chain[word].append(next_word)\n",
        "        \n",
        "    return chain"
      ],
      "execution_count": 0,
      "outputs": []
    },
    {
      "cell_type": "code",
      "metadata": {
        "id": "YBgFy7XlhIgm",
        "colab_type": "code",
        "colab": {
          "base_uri": "https://localhost:8080/",
          "height": 71
        },
        "outputId": "cd818836-7aa8-4344-abde-f5ca37cfa51b"
      },
      "source": [
        "# Load the pickled lyrics object that you created in Question 1.\n",
        "import pickle\n",
        "lyrics = pickle.load(open(\"lyrics.pkl\", \"rb\"))\n",
        "\n",
        "# Call the function you wrote above.\n",
        "chain = train_markov_chain(lyrics_list)\n",
        "\n",
        "# What words tend to start a song (i.e., what words follow the <START> tag?)\n",
        "print(chain[\"<START>\"])\n",
        "\n",
        "print(chain[\"<N>\"][:20])"
      ],
      "execution_count": 10,
      "outputs": [
        {
          "output_type": "stream",
          "text": [
            "['what', 'to', 'the', 'damn', 'everybody', '<END>', '<END>', 'our', '<END>', 'say', 'you', '<END>', 'the']\n",
            "['now', 'never', 'i', 'that', 'now', \"he'll\", 'i', 'please', 'tell', 'cause', \"he'll\", 'i', 'please', 'tell', 'cause', \"he'll\", 'hate', 'now', \"he'll\", 'stop']\n"
          ],
          "name": "stdout"
        }
      ]
    },
    {
      "cell_type": "code",
      "metadata": {
        "id": "w3ykNb4fiJnz",
        "colab_type": "code",
        "colab": {}
      },
      "source": [
        "def train_markov_chain(lyrics):\n",
        "    \"\"\"\n",
        "    Args:\n",
        "      - lyrics: a list of strings, where each string represents\n",
        "                the lyrics of one song by an artist.\n",
        "    \n",
        "    Returns:\n",
        "      A dict that maps a single word (\"unigram\") to a list of\n",
        "      words that follow that word, representing the Markov\n",
        "      chain trained on the lyrics.\n",
        "    \"\"\"\n",
        "    chain = {\"<START>\": []}\n",
        "    for lyric in lyrics:\n",
        "        words = (\n",
        "          lyric.lower().replace(\",\", \"\").replace('\\n\\n', ' <N> ').\\\n",
        "          replace('\\n', ' <N> ').split())\n",
        "        words.insert(0, '<START>')\n",
        "        words.append('<END>')\n",
        "        for i in range(len(words)-1):\n",
        "          word = words[i]\n",
        "          next_word = words[i+1]\n",
        "          if word not in chain:\n",
        "            chain[word] = [next_word]\n",
        "          else:\n",
        "            chain[word].append(next_word)\n",
        "        \n",
        "    return chain"
      ],
      "execution_count": 0,
      "outputs": []
    },
    {
      "cell_type": "code",
      "metadata": {
        "id": "UVYL__b4knZ6",
        "colab_type": "code",
        "colab": {}
      },
      "source": [
        "import random\n",
        "\n",
        "def generate_new_lyrics(chain):\n",
        "    \"\"\"\n",
        "    Args:\n",
        "      - chain: a dict representing the Markov chain,\n",
        "               such as one generated by generate_new_lyrics()\n",
        "    \n",
        "    Returns:\n",
        "      A string representing the randomly generated song.\n",
        "    \"\"\"\n",
        "    \n",
        "    # a list for storing the generated words\n",
        "    words = []\n",
        "    # generate the first word\n",
        "    words.append(random.choice(chain[\"<START>\"]))\n",
        "    words_index = 0\n",
        "\n",
        "    while '<END>' not in words:\n",
        "      word = random.choice(chain[words[words_index]])\n",
        "      words.append(word)\n",
        "      words_index += 1\n",
        "    \n",
        "    \n",
        "    # join the words together into a string with line breaks\n",
        "    lyrics = \" \".join(words[:-1])\n",
        "    return \"\\n\".join(lyrics.split(\"<N>\"))"
      ],
      "execution_count": 0,
      "outputs": []
    },
    {
      "cell_type": "code",
      "metadata": {
        "id": "4kOX_n1Ah7et",
        "colab_type": "code",
        "colab": {
          "base_uri": "https://localhost:8080/",
          "height": 493
        },
        "outputId": "374eb47d-7157-4163-a7d0-fce525ba3972"
      },
      "source": [
        "print(generate_new_lyrics(chain))"
      ],
      "execution_count": 13,
      "outputs": [
        {
          "output_type": "stream",
          "text": [
            "what they want \n",
            " i'm begging darling please just be like youi'm only got each other we die \n",
            " everybody everybody everybodyyou left me i'm missing ya \n",
            " he'll never be like youi'm only human can't you see \n",
            " (uh huh) \n",
            " he'll never know what they plan on holdin on holdin onto \n",
            " but my face \n",
            " pushing only human can't i don't ever leave you \n",
            " is sittin' in my lies \n",
            " those nights you love was taught to leave me in my sins won't you?i'm falling on all my face steady talking to me everything's okay \n",
            " cause i'm missing ya \n",
            " hate sleeping on holdin on holdin onno no no vouchers. \n",
            " say it anyhow \n",
            " hate sleeping on your mistake \n",
            " everybody everybody \n",
            " say it but all by \n",
            " everybody everybody everybodybaby girl how your temple we die i do!no no no such thing to \n",
            " on holdin onno no yes i'll be hunting me with mobs. \n",
            " can turn the same \n",
            " your instagram page trying to be that i do i can turn the tide cleanse it anyhow \n",
            " just can't you know they'll never break you know they'll never be like you see \n",
            " only got to me \n",
            " straight to see \n",
            " say it \n",
            " tryna get three prozacs and tell me everything's okay \n",
            " tell me for work \n",
            " i need your touch.we're walking and i'm fucked up \n",
            " he'll never be fine you\n"
          ],
          "name": "stdout"
        }
      ]
    }
  ]
}
